{
 "cells": [
  {
   "cell_type": "code",
   "execution_count": 4,
   "metadata": {},
   "outputs": [],
   "source": [
    "import os\n",
    "import numpy as np\n",
    "import pandas as pd\n",
    "import jaqs_fxdayu\n",
    "jaqs_fxdayu.patch_all()\n",
    "from jaqs.data import DataView\n",
    "from jaqs_fxdayu.data.dataservice import LocalDataService\n",
    "from jaqs.data import RemoteDataService\n",
    "\n",
    "import warnings\n",
    "warnings.filterwarnings(\"ignore\")"
   ]
  },
  {
   "cell_type": "code",
   "execution_count": 5,
   "metadata": {
    "collapsed": true
   },
   "outputs": [],
   "source": [
    "#define\n",
    "#由于CashDividendCover内部的cash数据无法获取，因此因子无法计算\n",
    "start = 20170101\n",
    "end = 20180101\n",
    "factor_list  = ['SaleServiceCashToOR' ,'alpha158','CoppockCurve' ,'OperatingProfitRatio', 'alpha147' ,'alpha57' ,'EquityFixedAssetRatio']"
   ]
  },
  {
   "cell_type": "code",
   "execution_count": 6,
   "metadata": {},
   "outputs": [
    {
     "name": "stdout",
     "output_type": "stream",
     "text": [
      "Field name [{'alpha57', 'alpha158', 'alpha147'}] not valid, ignore.\n",
      "Initialize config success.\n",
      "Query data...\n",
      "Query data - query...\n",
      "NOTE: price adjust method is [post adjust]\n",
      "当前请求daily...\n",
      "{'adjust_mode': None, 'fields': 'low_adj,trade_date,open,symbol,close_adj,vwap,vwap_adj,open_adj,high_adj,high,low,close,trade_status'}\n",
      "下载进度1760/3512.\n",
      "当前请求daily...\n",
      "{'adjust_mode': 'post', 'fields': 'open,vwap,high,low,close,symbol,trade_date'}\n",
      "下载进度1760/3512.\n",
      "当前请求query...\n",
      "{'fields': 'OperatingProfitRatio,EquityFixedAssetRatio,CoppockCurve,SaleServiceCashToOR', 'view': 'factor'}\n",
      "下载进度1760/3512.\n",
      "WARNING: some data is unavailable: \n",
      "    At fields 000748.SZ, 200011.SZ, 200012.SZ, 200016.SZ, 200017.SZ, 200018.SZ, 200019.SZ, 200020.SZ, 200022.SZ, 200025.SZ, 200026.SZ, 200028.SZ, 200029.SZ, 200030.SZ, 200037.SZ, 200045.SZ, 200053.SZ, 200054.SZ, 200055.SZ, 200056.SZ, 200058.SZ, 200152.SZ, 200160.SZ, 200168.SZ, 200413.SZ, 200418.SZ, 200429.SZ, 200468.SZ, 200488.SZ, 200505.SZ, 200512.SZ, 200521.SZ, 200530.SZ, 200539.SZ, 200541.SZ, 200550.SZ, 200553.SZ, 200570.SZ, 200581.SZ, 200596.SZ, 200613.SZ, 200625.SZ, 200706.SZ, 200725.SZ, 200726.SZ, 200761.SZ, 200771.SZ, 200869.SZ, 200986.SZ, 200992.SZ, 600005.SH, 601313.SH\n",
      "Query data - daily fields prepared.\n",
      "WARNING: some data is unavailable: \n",
      "    At fields 000748.SZ, 200011.SZ, 200012.SZ, 200016.SZ, 200017.SZ, 200018.SZ, 200019.SZ, 200020.SZ, 200022.SZ, 200025.SZ, 200026.SZ, 200028.SZ, 200029.SZ, 200030.SZ, 200037.SZ, 200045.SZ, 200053.SZ, 200054.SZ, 200055.SZ, 200056.SZ, 200058.SZ, 200152.SZ, 200160.SZ, 200168.SZ, 200413.SZ, 200418.SZ, 200429.SZ, 200468.SZ, 200488.SZ, 200505.SZ, 200512.SZ, 200521.SZ, 200530.SZ, 200539.SZ, 200541.SZ, 200550.SZ, 200553.SZ, 200570.SZ, 200581.SZ, 200596.SZ, 200613.SZ, 200625.SZ, 200706.SZ, 200725.SZ, 200726.SZ, 200761.SZ, 200771.SZ, 200869.SZ, 200986.SZ, 200992.SZ, 600005.SH\n",
      "Query data - quarterly fields prepared.\n",
      "Query instrument info...\n",
      "Query adj_factor...\n",
      "Data has been successfully prepared.\n"
     ]
    }
   ],
   "source": [
    "#数据导入以及规范化\n",
    "check_factor = ','.join(factor_list)\n",
    "dataview_folder = r'F:/data'\n",
    "ds = LocalDataService(fp = dataview_folder)\n",
    "\n",
    "SH_id = ds.query_index_member(\"000001.SH\", start, end)\n",
    "SZ_id = ds.query_index_member(\"399106.SZ\", start, end)\n",
    "stock_symbol = list(set(SH_id)|set(SZ_id))\n",
    "dv_props = {'start_date': start, 'end_date': end, 'symbol':','.join(stock_symbol),\n",
    "         'fields': check_factor,\n",
    "         'freq': 1,\n",
    "         \"prepare_fields\": True}\n",
    "\n",
    "dv = DataView()\n",
    "dv.init_from_config(dv_props, data_api=ds)\n",
    "dv.prepare_data()"
   ]
  },
  {
   "cell_type": "code",
   "execution_count": 7,
   "metadata": {
    "collapsed": true
   },
   "outputs": [],
   "source": [
    "#计算alpha158因子\n",
    "def alpha158():\n",
    "    #((HIGH-SMA(CLOSE,15,2))-(LOW-SMA(CLOSE,15,2)))/CLOSE\n",
    "\n",
    "    alpha158 = dv.add_formula('alpha158',\" ((high-Ta('SMA',0,open,high,low,close,volume,15,2))-(low-Ta('SMA',0,open,high,low,close,volume,15,2))) \",is_quarterly = False)\n",
    "    return alpha158"
   ]
  },
  {
   "cell_type": "code",
   "execution_count": 8,
   "metadata": {
    "collapsed": true
   },
   "outputs": [],
   "source": [
    "def alpha147():\n",
    "\n",
    "    #REGBETA(MEAN(CLOSE,12),SEQUENCE(12))\n",
    "    dv.add_formula('MEAN','Ts_Mean(close,12)',is_quarterly = False, add_data = True)\n",
    "    alpha147 = dv.add_formula('alpha147', \"Ta('LINEARREG_SLOPE',0,MEAN,MEAN,MEAN,MEAN,MEAN,12)\", is_quarterly = False)\n",
    "    return alpha147"
   ]
  },
  {
   "cell_type": "code",
   "execution_count": 9,
   "metadata": {
    "collapsed": true
   },
   "outputs": [],
   "source": [
    "def alpha57():\n",
    "    #SMA((CLOSE-TSMIN(LOW,9))/(TSMAX(HIGH,9)-TSMIN(LOW,9))*100,3,1)\n",
    "\n",
    "    dv.add_formula('par','close-Ts_Min(low,9)/(Ts_Max(high,9)-Ts_Min(low,9))*100', is_quarterly = False ,add_data = True) #创建中间变量\n",
    "    alpha57 = dv.add_formula('alpha57', \"Ta('SMA',0,par,par,par,par,par,3,1)\",is_quarterly = False)\n",
    "    return alpha57"
   ]
  },
  {
   "cell_type": "code",
   "execution_count": 10,
   "metadata": {
    "collapsed": true
   },
   "outputs": [],
   "source": [
    "def SaleServiceCashToOR():\n",
    "    #销售商品提供劳务收到的现金与营业收入之比（Sale service cash to operating revenues）。计算方法：销售商品提供劳务收到的现金与营业收入之比=销售商品和提供劳务收到的现金（TTM）/营业收入（TTM）。\n",
    "    dv.add_field('cash_recp_sg_and_rs',ds)\n",
    "    dv.add_field('oper_rev',ds)\n",
    "    SaleServiceCashToOR = dv.add_formula('SaleServiceCashToOR' , 'cash_recp_sg_and_rs/oper_rev' , is_quarterly = True)\n",
    "    return SaleServiceCashToOR"
   ]
  },
  {
   "cell_type": "code",
   "execution_count": 11,
   "metadata": {
    "collapsed": true
   },
   "outputs": [],
   "source": [
    "def OperatingProfitRatio():\n",
    "    #营业利润率（Operating profit ratio），计算方法：营业利润率=营业利润（TTM）/营业收入（TTM）。\n",
    "    dv.add_field('oper_profit',ds)\n",
    "    dv.add_field('oper_rev',ds)\n",
    "    OperatingProfitRatio = dv.add_formula('OperatingProfitRatio','oper_profit/oper_rev',is_quarterly = True)\n",
    "    return OperatingProfitRatio\n"
   ]
  },
  {
   "cell_type": "code",
   "execution_count": 12,
   "metadata": {
    "collapsed": true
   },
   "outputs": [],
   "source": [
    "def EquityFixedAssetRatio():\n",
    "    #股东权益与固定资产比率（Equity fixed assets ratio）。计算方法：股东权益与固定资产比率=股东权益/(固定资产+工程物资+在建工程)。\n",
    "    dv.add_field('tot_liab_shrhldr_eqy',ds)#股东权益和负债合计\n",
    "    dv.add_field('total_liab',ds)#负债\n",
    "    dv.add_field('fix_assets',ds)#固定资产\n",
    "    dv.add_field('proj_matl',ds)#工程物资\n",
    "    a = dv.add_field('const_in_prog',ds)#在建工程\n",
    "    EquityFixedAssetRatio = dv.add_formula('EquityFixedAssetRatio','(tot_liab_shrhldr_eqy-total_liab)/(fix_assets+proj_matl+const_in_prog)',is_quarterly = True)\n",
    "    return EquityFixedAssetRatio"
   ]
  },
  {
   "cell_type": "code",
   "execution_count": 13,
   "metadata": {
    "collapsed": true
   },
   "outputs": [],
   "source": [
    "def CoppockCurve(param = None):\n",
    "    #估波指标（Coppock Curve），又称“估波曲线”，该指标通过计算月度价格的变化速率的加权平均值来测量市场的动量，属于长线指标，这里我们改为日间的指标。\n",
    "    defult_param = {'t1':11,'t2':14}\n",
    "    if not param:\n",
    "        param = defult_param\n",
    "    dv.add_formula('R1',\"100*(close-Delay(close,%s))/Delay(close,%s)\"%(param['t1'],param['t1']), is_quarterly = False ,add_data = True) # 前11日的指标\n",
    "    dv.add_formula('R2',\"100*(close-Delay(close,%s))/Delay(close,%s)\"%(param['t2'],param['t2']), is_quarterly = False ,add_data = True) # 前14日的指标\n",
    "    CoppockCurve = dv.add_formula('Coppo',\"Ta('WMA',0,R1+R2,R1+R2,R1+R2,R1+R2,R1+R2,10)\",is_quarterly = False )\n",
    "    return CoppockCurve"
   ]
  },
  {
   "cell_type": "code",
   "execution_count": 14,
   "metadata": {},
   "outputs": [
    {
     "name": "stdout",
     "output_type": "stream",
     "text": [
      "Query data - query...\n",
      "WARNING: some data is unavailable: \n",
      "    At fields 000748.SZ, 200011.SZ, 200012.SZ, 200016.SZ, 200017.SZ, 200018.SZ, 200019.SZ, 200020.SZ, 200022.SZ, 200025.SZ, 200026.SZ, 200028.SZ, 200029.SZ, 200030.SZ, 200037.SZ, 200045.SZ, 200053.SZ, 200054.SZ, 200055.SZ, 200056.SZ, 200058.SZ, 200152.SZ, 200160.SZ, 200168.SZ, 200413.SZ, 200418.SZ, 200429.SZ, 200468.SZ, 200488.SZ, 200505.SZ, 200512.SZ, 200521.SZ, 200530.SZ, 200539.SZ, 200541.SZ, 200550.SZ, 200553.SZ, 200570.SZ, 200581.SZ, 200596.SZ, 200613.SZ, 200625.SZ, 200706.SZ, 200725.SZ, 200726.SZ, 200761.SZ, 200771.SZ, 200869.SZ, 200986.SZ, 200992.SZ, 600005.SH\n",
      "Query data - quarterly fields prepared.\n",
      "Query data - query...\n",
      "WARNING: some data is unavailable: \n",
      "    At fields 000748.SZ, 200011.SZ, 200012.SZ, 200016.SZ, 200017.SZ, 200018.SZ, 200019.SZ, 200020.SZ, 200022.SZ, 200025.SZ, 200026.SZ, 200028.SZ, 200029.SZ, 200030.SZ, 200037.SZ, 200045.SZ, 200053.SZ, 200054.SZ, 200055.SZ, 200056.SZ, 200058.SZ, 200152.SZ, 200160.SZ, 200168.SZ, 200413.SZ, 200418.SZ, 200429.SZ, 200468.SZ, 200488.SZ, 200505.SZ, 200512.SZ, 200521.SZ, 200530.SZ, 200539.SZ, 200541.SZ, 200550.SZ, 200553.SZ, 200570.SZ, 200581.SZ, 200596.SZ, 200613.SZ, 200625.SZ, 200706.SZ, 200725.SZ, 200726.SZ, 200761.SZ, 200771.SZ, 200869.SZ, 200986.SZ, 200992.SZ, 600005.SH\n",
      "Query data - quarterly fields prepared.\n",
      "Query data - query...\n",
      "WARNING: some data is unavailable: \n",
      "    At fields 000748.SZ, 200011.SZ, 200012.SZ, 200016.SZ, 200017.SZ, 200018.SZ, 200019.SZ, 200020.SZ, 200022.SZ, 200025.SZ, 200026.SZ, 200028.SZ, 200029.SZ, 200030.SZ, 200037.SZ, 200045.SZ, 200053.SZ, 200054.SZ, 200055.SZ, 200056.SZ, 200058.SZ, 200152.SZ, 200160.SZ, 200168.SZ, 200413.SZ, 200418.SZ, 200429.SZ, 200468.SZ, 200488.SZ, 200505.SZ, 200512.SZ, 200521.SZ, 200530.SZ, 200539.SZ, 200541.SZ, 200550.SZ, 200553.SZ, 200570.SZ, 200581.SZ, 200596.SZ, 200613.SZ, 200625.SZ, 200706.SZ, 200725.SZ, 200726.SZ, 200761.SZ, 200771.SZ, 200869.SZ, 200986.SZ, 200992.SZ, 600005.SH\n",
      "Query data - quarterly fields prepared.\n",
      "Query data - query...\n",
      "WARNING: some data is unavailable: \n",
      "    At fields 000748.SZ, 200011.SZ, 200012.SZ, 200016.SZ, 200017.SZ, 200018.SZ, 200019.SZ, 200020.SZ, 200022.SZ, 200025.SZ, 200026.SZ, 200028.SZ, 200029.SZ, 200030.SZ, 200037.SZ, 200045.SZ, 200053.SZ, 200054.SZ, 200055.SZ, 200056.SZ, 200058.SZ, 200152.SZ, 200160.SZ, 200168.SZ, 200413.SZ, 200418.SZ, 200429.SZ, 200468.SZ, 200488.SZ, 200505.SZ, 200512.SZ, 200521.SZ, 200530.SZ, 200539.SZ, 200541.SZ, 200550.SZ, 200553.SZ, 200570.SZ, 200581.SZ, 200596.SZ, 200613.SZ, 200625.SZ, 200706.SZ, 200725.SZ, 200726.SZ, 200761.SZ, 200771.SZ, 200869.SZ, 200986.SZ, 200992.SZ, 600005.SH\n",
      "Query data - quarterly fields prepared.\n",
      "Query data - query...\n",
      "WARNING: some data is unavailable: \n",
      "    At fields 000748.SZ, 200011.SZ, 200012.SZ, 200016.SZ, 200017.SZ, 200018.SZ, 200019.SZ, 200020.SZ, 200022.SZ, 200025.SZ, 200026.SZ, 200028.SZ, 200029.SZ, 200030.SZ, 200037.SZ, 200045.SZ, 200053.SZ, 200054.SZ, 200055.SZ, 200056.SZ, 200058.SZ, 200152.SZ, 200160.SZ, 200168.SZ, 200413.SZ, 200418.SZ, 200429.SZ, 200468.SZ, 200488.SZ, 200505.SZ, 200512.SZ, 200521.SZ, 200530.SZ, 200539.SZ, 200541.SZ, 200550.SZ, 200553.SZ, 200570.SZ, 200581.SZ, 200596.SZ, 200613.SZ, 200625.SZ, 200706.SZ, 200725.SZ, 200726.SZ, 200761.SZ, 200771.SZ, 200869.SZ, 200986.SZ, 200992.SZ, 600005.SH\n",
      "Query data - quarterly fields prepared.\n"
     ]
    }
   ],
   "source": [
    "#测试因子计算是否符合格式\n",
    "factor_list  = ['SaleServiceCashToOR' ,'alpha158','CoppockCurve' ,'OperatingProfitRatio', 'alpha147' ,'alpha57' ,'EquityFixedAssetRatio']\n",
    "#--------------------------------------------------------- \n",
    "#test output\n",
    "def test(factor,data):\n",
    "    if not isinstance(data, pd.core.frame.DataFrame):\n",
    "        raise TypeError('On factor {} ,output must be a pandas.DataFrame!'.format(factor))\n",
    "    else:\n",
    "        try:\n",
    "            index_name = data.index.names[0]\n",
    "            columns_name = data.index.names[0]\n",
    "        except:\n",
    "            if not (index_name in ['trade_date','report_date'] and columns_name == 'symbol'):\n",
    "                raise NameError('''Error index name,index name must in [\"trade_date\",\"report_date\"],columns name must be \"symbol\" ''')\n",
    "                \n",
    "        index_dtype = data.index.dtype_str\n",
    "        columns_dtype = data.columns.dtype_str\n",
    "        \n",
    "        if columns_dtype not in ['object','str']:\n",
    "            raise TypeError('error columns type')\n",
    "            \n",
    "        if index_dtype not in ['int32','int64','int']:\n",
    "            raise TypeError('error index type')\n",
    "\n",
    "\n",
    "test_factor = True\n",
    "\n",
    "if test_factor:   \n",
    "    for factor in factor_list[5:]:\n",
    "        data = globals()[factor]()\n",
    "        test(factor,data)"
   ]
  }
 ],
 "metadata": {
  "kernelspec": {
   "display_name": "Python 3",
   "language": "python",
   "name": "python3"
  },
  "language_info": {
   "codemirror_mode": {
    "name": "ipython",
    "version": 3
   },
   "file_extension": ".py",
   "mimetype": "text/x-python",
   "name": "python",
   "nbconvert_exporter": "python",
   "pygments_lexer": "ipython3",
   "version": "3.6.3"
  }
 },
 "nbformat": 4,
 "nbformat_minor": 2
}
